{
 "cells": [
  {
   "cell_type": "markdown",
   "metadata": {
    "jp-MarkdownHeadingCollapsed": true,
    "tags": []
   },
   "source": [
    "# <center>The Joy of Robotics using Python and ROS!</center>\n",
    "# <center><img src=\"Images/01Python3_logo.png\" width=\"300\" /></center>\n",
    "##### <center>Copyright 2022</center>\n",
    "## <center>Workbook authors: Dr. William Navaraj and Jarede Mayers, 2022, https://github.com/williamnavaraj/</center>\n"
   ]
  },
  {
   "attachments": {},
   "cell_type": "markdown",
   "metadata": {
    "tags": []
   },
   "source": [
    "# Unit 5. Actuators, Kinematics and Robot Assembly"
   ]
  },
  {
   "cell_type": "markdown",
   "metadata": {},
   "source": [
    "<p style=\"background:black;color:white;font-size:18px;\"> Overview </p>"
   ]
  },
  {
   "attachments": {},
   "cell_type": "markdown",
   "metadata": {},
   "source": [
    "<link rel=\"stylesheet\" href=\"https://maxcdn.bootstrapcdn.com/bootstrap/3.4.1/css/bootstrap.min.css\">\n",
    "<div class=\"alert alert-block alert-info\">\n",
    "<b>Note:</b>\n",
    "Do not press <strong>Run All</strong> anytime when you are stepping through this notebook. Either use shift+return within the cell or press the play button next to those cells. \n",
    "\n",
    "Note this exercise is meant to be ran in RaspBerryPi. the part where the code interacts with the hardware will not run in the virtual PC.\n",
    "\n",
    "</div>\n",
    "\n",
    "These exercises are meant to be run in VSCode. Try to use a lighter theme (File-->Preferences-->Color Themes) for better readability."
   ]
  },
  {
   "cell_type": "markdown",
   "metadata": {},
   "source": [
    "In this final, we will focus on electromechanical interface where code meets electronics and mechanical engineering."
   ]
  },
  {
   "cell_type": "markdown",
   "metadata": {},
   "source": [
    "<p style=\"background:black;color:white;font-size:18px;\"> ' </p>"
   ]
  },
  {
   "cell_type": "code",
   "execution_count": null,
   "metadata": {},
   "outputs": [],
   "source": [
    "#Run this to digitally sign your report at the start\n",
    "%run -i \"Images/DigiSign.signer\""
   ]
  },
  {
   "attachments": {},
   "cell_type": "markdown",
   "metadata": {},
   "source": [
    "Team Name:\n",
    "\n",
    "\n",
    "Names of Team members present for the common exercise: \n",
    "\n",
    "\n",
    "1) Name   Date\n",
    "\n",
    "2)  Savija  N1129163\n",
    "\n",
    "3)  John Coleman N0992917   \n",
    "\n",
    "4) Joseph Wilson N1049548\n",
    "\n",
    "5) Riken\n",
    "\n",
    "6) Will\n",
    "\n",
    "<link rel=\"stylesheet\" href=\"https://maxcdn.bootstrapcdn.com/bootstrap/3.4.1/css/bootstrap.min.css\">\n",
    "<div class=\"alert alert-block alert-info\">\n",
    "<b>Important Note:</b>\n",
    "Some component of this exercise you will do as a group. But the overall submission will still be individual. Wherever it says individual component such as reflection, hand calculation etc., this has to be done by each of you separately and added to this notebook and  submitted individually.\n",
    "</div>\n"
   ]
  },
  {
   "attachments": {},
   "cell_type": "markdown",
   "metadata": {},
   "source": [
    "## Group Exercise 1: Stall Torque of a Standard Servo Motor\n",
    "\n",
    "<link rel=\"stylesheet\" href=\"https://maxcdn.bootstrapcdn.com/bootstrap/3.4.1/css/bootstrap.min.css\">\n",
    "<div class=\"alert alert-block alert-info\">\n",
    "<b>Note:</b>\n",
    "The instructor will demonstrate the measurement for this. PLEASE NOTE THE MEASURED VALUES BELOW.\n",
    "<!-- Follow the instructions exactly. If in doubt, ask the instructor rather than guessing. Cross check with the instructor when in doubt.  -->\n",
    "</div>\n",
    "\n",
    "\n",
    "One of the key specification of a motor is its torque, usually specified in `N-m` for industrial motors while in case of hobby servos it is specified in `kgf-cm`.\n",
    "\n",
    "The peak/stall torque indicates the maximum torque (rotational force) which a servo motor can provide. The following diagram helps to get a better idea of what that means. A `20 kgf-cm` servo can lift a mass of `20 kg` at `1 cm` from its shaft axis. It can lift `40 kg` at `0.5 cm`, `10 kg` at `2 cm` and `5 kg` at `4 cm`, respectively.\n",
    "\n",
    "# <center><img src=\"Images/Torque.png\" width=\"500\" /></center>\n",
    "\n",
    "\n",
    "As a mechanical engineer, you are not expected to know about the electronics (still good to know if you wish) behind and to control the motors. However, it is important to know about the types of motors.\n",
    "\n",
    "One of the types of motor which is of important to roboticist is a motor with servo mechanism called servo motors. A servo is like any other motor which converts electrical energy into mechanical motion by using electromagnetic force. The key difference between any other motor and servo motor is the closed loop control, closed loop control of position or closed loop control of speed. The hobby servo motors will be referred as `Servos` here after.\n",
    "\n",
    "Depending on what type of closed loop control, there are two types of `servos`:\n",
    "1) Standard servos (closed loop control of position)\n",
    "2) Continuous servos (closed loop control of speed and direction of rotation)\n",
    "\n",
    "Closed loop control as you have learnt in control systems help to look for any error and precisely control the postion or speed.\n",
    "\n",
    "# <center><img src=\"Images/Servos.jpeg\" width=\"500\" /></center>\n",
    "\n",
    "Let's first play with a standard servo and try to find the stall torque in the output of the servo. \n",
    "\n",
    "Note that inside a servo motor there is a normal low torque DC motor connected to a gearbox. There is a potentiometer which is used by the servo motor to find the current angle of the servo. Depending on the error between desired angle and current angle, the motor is actuated by a closed loop control loop and the output shaft is driven to the desired angle.\n",
    "\n",
    "# <center><img src=\"Images/servo-parts2.jpg\" width=\"500\" /></center>\n",
    "\n",
    "# <center><img src=\"Images/servo-parts.jpg\" width=\"500\" /></center>\n",
    "\n",
    "We are finding the torque in the output shaft. From there, by estimating the transmission gear ratio we can find the torque of the input shaft."
   ]
  },
  {
   "attachments": {},
   "cell_type": "markdown",
   "metadata": {},
   "source": [
    "\n",
    "<link rel=\"stylesheet\" href=\"https://maxcdn.bootstrapcdn.com/bootstrap/3.4.1/css/bootstrap.min.css\">\n",
    "<div class=\"alert alert-block alert-info\">\n",
    "<b>Note:</b>\n",
    "Follow the instructions exactly. If in doubt, ask the instructor rather than guessing. Cross check with the instructor when in doubt. \n",
    "</div>\n",
    "\n",
    "\n",
    "\n",
    "1) Connect the DC pin into the DC jack. Keep the DC power off for now.\n",
    "\n",
    "# <center><img src=\"Images/DC_Barrel_Pin.jpeg\" width=\"300\" /> </center>\n",
    "\n",
    "2) Make sure the standard micro servo motor in the board is oriented in such a way that the wires are coming at the left side of it as shown in the figure below. \n",
    "# <center><img src=\"Images/microservo_on_board.jpeg\" width=\"500\" /> </center>\n",
    "\n",
    "3) Make sure the servo extension cable from the micro servo is connected in this order as shown in the image below. Brown to black, Red to Red and Orange to White. Electrically the power to the servo goes through the brown/black wires (Gnd) and Red wires (Power). The signal to control this motor goes through the white/orange cable.\n",
    "\n",
    "# <center><img src=\"Images/servo_extension_cable.jpeg\" width=\"200\" /> </center>\n",
    "\n",
    "4) Connect the other end of the servo extension cable to the pin 0 of the servo motor driver board as shown in the image below. Make sure the black wire is closer to the edge as shown in the image below.\n",
    "\n",
    "# <center><img src=\"Images/motor0_wiring.png\" width=\"400\" /> </center>\n",
    "\n",
    "5) Power on the DC power. You will see the green light ON in the servo motor driver board.\n",
    "\n",
    "# <center><img src=\"Images/servo_green_light.jpeg\" width=\"300\" /> </center>\n",
    "\n",
    "6) Now time to control the standard servo. Remember in standard servos we can carryout closed loop control of position/joint angle. Executing the below python code (Shift + Enter) will bring a slider with which you can control the position of the servo. Play around with the value and see the servo in action.\n",
    "\n"
   ]
  },
  {
   "cell_type": "code",
   "execution_count": null,
   "metadata": {},
   "outputs": [],
   "source": [
    "# Initialisation\n",
    "import merlin_hw\n",
    "from importlib import reload\n",
    "reload(merlin_hw)\n",
    "merlin_bot=merlin_hw.robot()\n",
    "scara_base_link1_slider=merlin_bot.get_scara_base_link1_slider()\n",
    "display(scara_base_link1_slider)\n",
    "merlin_bot.start()"
   ]
  },
  {
   "attachments": {},
   "cell_type": "markdown",
   "metadata": {},
   "source": [
    "8) Now make sure to set the above slider to 0 degree.\n",
    "\n",
    "<link rel=\"stylesheet\" href=\"https://maxcdn.bootstrapcdn.com/bootstrap/3.4.1/css/bootstrap.min.css\">\n",
    "<div class=\"alert alert-block alert-info\">\n",
    "<b>Note:</b>\n",
    "Make sure to set the servo position to 0 degree. \n",
    "</div>\n",
    "\n",
    "9) With the servo set to 0 degree, remove the pilot screw. Make sure not to lose the screw. Attach the first link of the microscara to the base joint as shown in the image below aligning the link to the X axis as close as possible. If required tilt the board horizontally and make sure not to lose the pilot screw. Carefully secure it with the pilot screw of the microservo using a philips screwdriver head. \n",
    "<link rel=\"stylesheet\" href=\"https://maxcdn.bootstrapcdn.com/bootstrap/3.4.1/css/bootstrap.min.css\">\n",
    "<div class=\"alert alert-block alert-info\">\n",
    "<b>Note:</b>\n",
    "Make sure not to lose the screw. If required tilt the board horizontally when you are securing the pilot screw. \n",
    "</div>\n",
    "<center><img src=\"Images/microscara_first_link.jpeg\" width=\"300\" /></center>\n",
    "\n",
    "10) Use the slider above to set the microscara base joint (yaw) to 90 degrees. It is okay if the servo does not go exactly to 90 degrees. But closer to aligning with Y axis.\n",
    "\n",
    "11) Attach the mass hanger to the link  on the 5cm `U` slot from the axis of the servo (the 5th slot, each slot is 1 cm away from the axis). Now slowly add more mass blocks at 5cm from the axis and find out the mass at which the hole in the distal end of the first link droops to roughly 1 cm below from where it started.\n",
    "\n",
    "Note down the mass below. Remember these are not precise industrial grade servos. Industrial grade servos can cost more than a few thousand pounds. You will see demo of industrial robot later.\n",
    "\n",
    "12) Remove the mass blocks/hanger added at 5 cm. Add mass blocks at 4 cm and find out the stall mass where the link drops below 1 cm in the the distal hole end.  Note down these stall masses in the below cell. Similarly find the stall masses at  3 cm and 2 cm. Run the cell below to get the graph of stall mass vs distance.\n",
    "\n",
    "Pay attention to the location with `<<<-------` in the below cell."
   ]
  },
  {
   "cell_type": "code",
   "execution_count": null,
   "metadata": {},
   "outputs": [],
   "source": [
    "%matplotlib widget\n",
    "import matplotlib.pyplot as plt\n",
    "import numpy as np\n",
    "distance_array=[5, 4, 3, 2]#distance from axis in cm\n",
    "\n",
    "#Enter stall masses below in this order from your experiment separated by comma\n",
    "# mass_array=[stall mass at 5 cm,stall mass at 4 cm,stall mass at 3 cm,stall mass at 2 cm ]\n",
    "mass_array=[360, 400, 480, 570] #<<<-------Enter stall masses from your experiment\n",
    "\n",
    "fig,ax = plt.subplots()\n",
    "ax.plot(distance_array, mass_array, color=\"red\", marker=\"o\")\n",
    "\n",
    "#Multiplying masses by distance to get the torque array\n",
    "torque_array=np.multiply(mass_array,distance_array)\n",
    "\n",
    "ax.set_title('Title',fontsize=14) #<<<-------Enter a proper title\n",
    "ax.set_xlabel('x',fontsize=14) #<<<-------Enter an appropriate xlabel with units within brackets\n",
    "ax.set_ylabel('y',color=\"red\",fontsize=14) #<<<-------Enter an appropriate ylabel with units within brackets\n",
    "\n",
    "ax2=ax.twinx()\n",
    "ax2.plot(distance_array,torque_array,color=\"blue\",marker=\"x\")\n",
    "ax2.set_ylabel(\"y2\",color=\"blue\",fontsize=14) #<<<-------Enter an appropriate ylabel with units within brackets\n",
    "\n",
    "plt.show()\n",
    "\n",
    "#dividing sum by len to get average torque\n",
    "unit_conversion_factor=1 #To express torque in kgf.cm  <<<-----Amend unit_conversion_factor accordingly, if needed\n",
    "average_torque_kgf_cm=unit_conversion_factor*sum(torque_array)/len(torque_array)\n",
    "\n",
    "print('\\033[95m',\"The average torque of this servo motor is \",average_torque_kgf_cm,\" kgf.cm\") \n",
    "\n",
    "unit_conversion_factor2=1 #To express torque in N.m  <<<-----Amend unit_conversion_factor accordingly, if needed\n",
    "average_torque_N_m=average_torque_kgf_cm*unit_conversion_factor2\n",
    "\n",
    "print('\\033[95m',\"The average torque of this servo motor is \",average_torque_N_m,\" N.m\") "
   ]
  },
  {
   "attachments": {},
   "cell_type": "markdown",
   "metadata": {},
   "source": [
    "#### Individual Exercise 1"
   ]
  },
  {
   "cell_type": "markdown",
   "metadata": {},
   "source": [
    "<link rel=\"stylesheet\" href=\"https://maxcdn.bootstrapcdn.com/bootstrap/3.4.1/css/bootstrap.min.css\">\n",
    "<div class=\"alert alert-block alert-info\">\n",
    "<b>Answer to the questions below are individual components to be filled later. Move on to the next group exercise.</b>\n",
    "</div>"
   ]
  },
  {
   "attachments": {},
   "cell_type": "markdown",
   "metadata": {},
   "source": [
    "If you carefully observe the servo, you can see that there is a normal DC motor inside the servo, the output of which goes through a series of gears in a gearbox (as shown in the image below) and finally connects to the output shaft. \n",
    "\n",
    "1) Find the overall gear reduction ratio (shaft-to-motor) considering there are chains of small gears driving the larger gears where the small-gear-large-gear teeths (number of teeth in small gear, number teeth in large gear) starting from the motor all the way to the servo shaft `(motor_teeth, gear1_in_teeth), (gear1_out_teeth, gear2_in_teeth),(gear2_out_teeth, gear3_in_teeth),(gear3_out_teeth,shaft)` are:\n",
    "`(9,47), (10,38), (8,32), (7,23)`, respectively. The gear labeled `motor` is the driving gear while gear labeled `shaft` is the driven gear.\n",
    "\n",
    "<center><img src=\"Images/MotorGearbox.png\" width=\"400\" /></center>\n",
    "<center><img src=\"Images/GearsInGearTrain.png\" width=\"900\" /></center>\n"
   ]
  },
  {
   "attachments": {},
   "cell_type": "markdown",
   "metadata": {},
   "source": [
    "2) Notice that `gear1`, `gear2` and `gear3` in the above figure are compound gears. What is a compound gear?"
   ]
  },
  {
   "attachments": {},
   "cell_type": "markdown",
   "metadata": {},
   "source": [
    "Your Answer (Compound gear):\n"
   ]
  },
  {
   "attachments": {},
   "cell_type": "markdown",
   "metadata": {},
   "source": [
    "3) Find the torque of the motor inside the Servo (before the gearbox stage) for the average torque of the servo which you estimated using the experiment (refer to the previous cell output). Assume an efficiency of 84%. When there are series of gears you multiply the gear ratios together to get the overall gear reduction ratio.\n",
    "\n",
    "Tservo=η × Z_Ratio × Tmotor\n",
    "\n",
    "η-Efficiency\n",
    "\n",
    "T-Torque\n",
    "\n",
    "Z_Ratio-Gear reduction ratio (Output to input)\n",
    "\n",
    "Answer the other two questions 3 & 4 given below."
   ]
  },
  {
   "cell_type": "code",
   "execution_count": null,
   "metadata": {},
   "outputs": [],
   "source": [
    "#If you wish Use this cell to type any python calculation instead of hand calculation\n"
   ]
  },
  {
   "cell_type": "markdown",
   "metadata": {},
   "source": [
    "Your Answers:\n",
    "\n",
    "Overall Gear Reduction Ratio of the Gear Box: \n",
    "\n",
    "Torque of the motor inside the Servo:\n",
    "\n",
    "What is the type of the gears which are in your micro servo? \n",
    "\n",
    "What is/are the advantage(s) and disadvantage(s) of this type of gears?"
   ]
  },
  {
   "attachments": {},
   "cell_type": "markdown",
   "metadata": {},
   "source": [
    "## Group Exercise 2: Rotation speed estimation of a Continuous Servo Motor\n",
    "\n",
    "Another key specification of a motor is its speed, usually specified in `RPM` or angular velocity `degree/second`. In case of latter usually time taken for 60 degree is reported. A continuous servo motor is one in which speed or direction can be controlled by using a control signal. \n",
    "\n",
    "Time to play with a continuous servo and try to find the rotation speed.\n",
    "\n",
    "\n",
    "\n",
    "<link rel=\"stylesheet\" href=\"https://maxcdn.bootstrapcdn.com/bootstrap/3.4.1/css/bootstrap.min.css\">\n",
    "<div class=\"alert alert-block alert-info\">\n",
    "<b>Note:</b>\n",
    "The instructor will demonstrate the measurement for this. PLEASE NOTE THE MEASURED VALUES BELOW>\n",
    "<!-- Follow the instructions exactly. If in doubt, ask the instructor rather than guessing. Cross check with the instructor when in doubt.  -->\n",
    "</div>\n",
    "\n",
    "\n",
    "1) Power off the DC power to the servo motor driver board. Not the Pi400. You will see the green light turns off in the servo motor driver board.\n",
    "\n",
    "2) Connect the servo cable of one of the continuous servo motor (labeled 1,2,3 or 4) to pin 12 of the servo motor driver board as shown in the image below. Make sure the black wire is facing towards the edge.\n",
    "\n",
    "# <center><img src=\"Images/servo_connector_2.png?=1\" width=\"500\" /> </center>\n",
    "\n",
    "3) Attach one of the servo horns to the motor. No need to secure the pilot screw and alignment/orientation does not matter as this is a continuous rotation servo. \n",
    "\n",
    "4) Power on the DC power. You will see the green light on in the servo motor driver board.\n",
    "\n",
    "# <center><img src=\"Images/servo_green_light.jpeg\" width=\"300\" /> </center>\n",
    "\n",
    "5) Now time to control the continuous servo. Remember in case of continuous servos we can carryout closed loop control of speed/direction. Executing the below python code (Shift + Enter) will bring a slider with which you can control the speed and direction of the servo. Play around with the value and see the motor in action. You may see some slight drift in terms where the motor comes to a halt that is alright and common in these motors which requires a calibration."
   ]
  },
  {
   "cell_type": "code",
   "execution_count": null,
   "metadata": {},
   "outputs": [],
   "source": [
    "import merlin_hw\n",
    "from importlib import reload\n",
    "reload(merlin_hw)\n",
    "merlin_bot=merlin_hw.robot()\n",
    "continuous_servo_slider_layout=merlin_bot.get_continuous_servo_slider_layout()\n",
    "display(continuous_servo_slider_layout) "
   ]
  },
  {
   "cell_type": "markdown",
   "metadata": {},
   "source": [
    "6) Change the signal to various positive and negative % say (-100,-50,0,50,100). For each case, start the timer. Then count the number of rotations the horn made within a given time say 30 s. Enter these in the `number_of_rotations_array`. Record counterclockwise rotations as positive value and clockwise rotations as negative value. Once you have recorded the rotations. Shift +Enter the next cell to plot the `Signal% Vs RPM`\n"
   ]
  },
  {
   "cell_type": "code",
   "execution_count": null,
   "metadata": {},
   "outputs": [],
   "source": [
    "%matplotlib widget\n",
    "import matplotlib.pyplot as plt\n",
    "import numpy as np\n",
    "\n",
    "signal_percent_array=[-100, -75,-50,-25, 0, 25,50,75, 100] #signal percentage\n",
    "\n",
    "time_observed_array=[30, 30, 30, 30, 30, 30, 30, 30, 30] #time observed in seconds \n",
    "\n",
    "number_of_rotations_array=[23, 10, 0, 10, 23] #<<<------- number of rotations within the time observed for various signal %\n",
    "\n",
    "rotations_per_minute_array=np.divide(number_of_rotations_array,np.multiply(time_observed_array,1/60))\n",
    "\n",
    "\n",
    "fig,ax = plt.subplots()\n",
    "ax.plot(signal_percent_array, rotations_per_minute_array, color=\"red\", marker=\"o\")\n",
    "\n",
    "\n",
    "ax.set_title('Signal % Vs RPM',fontsize=14) \n",
    "ax.set_xlabel('Signal %',fontsize=14)\n",
    "ax.set_ylabel('Rotations RPM',color=\"red\",fontsize=14) \n",
    "\n",
    "plt.show()"
   ]
  },
  {
   "cell_type": "markdown",
   "metadata": {},
   "source": [
    "<link rel=\"stylesheet\" href=\"https://maxcdn.bootstrapcdn.com/bootstrap/3.4.1/css/bootstrap.min.css\">\n",
    "<div class=\"alert alert-block alert-info\">\n",
    "<b>Answer to the questions below are individual component to be filled later. Move on to the hybrid exercise.</b>\n",
    "</div>"
   ]
  },
  {
   "cell_type": "markdown",
   "metadata": {},
   "source": [
    "We have looked at two different types of servos. Which among the servos are useful for driving wheels for mobile robot and which among the servos are useful for robotic arm manipulator?\n"
   ]
  },
  {
   "cell_type": "markdown",
   "metadata": {},
   "source": [
    "YOUR ANSWER:\n",
    "\n",
    "1) Wheels:\n",
    "\n",
    "2) Arms:"
   ]
  },
  {
   "attachments": {},
   "cell_type": "markdown",
   "metadata": {},
   "source": [
    "Assume the continuous servo motor which you characterised above is used to drive a differential drive robot forward with a wheel diameter of 10 cm. At a signal percentage of 50%, find the distance the robot would have traveled in 30 seconds."
   ]
  },
  {
   "attachments": {},
   "cell_type": "markdown",
   "metadata": {},
   "source": [
    "Your answer:"
   ]
  },
  {
   "attachments": {},
   "cell_type": "markdown",
   "metadata": {},
   "source": [
    "<link rel=\"stylesheet\" href=\"https://maxcdn.bootstrapcdn.com/bootstrap/3.4.1/css/bootstrap.min.css\">\n",
    "<div class=\"alert alert-block alert-info\">\n",
    "<b>Note:</b>\n",
    "Any time you see big equations, try to resist the urge to skip and move on to next session. Instead try to ponder over. Spend some time in each step and see whether it makes sense. Ask instructor for clarification if you could not understand one such step. \n",
    "</div>\n"
   ]
  },
  {
   "attachments": {},
   "cell_type": "markdown",
   "metadata": {},
   "source": [
    "# Assembly of the robot:"
   ]
  },
  {
   "cell_type": "markdown",
   "metadata": {},
   "source": [
    "YOUTUBE VIDEO:\n",
    "\n",
    "https://youtu.be/h8GpHOK6gFw\n",
    "\n",
    "Courtesy: Ethan Marchant-Whitehurst and Jarede Mayers"
   ]
  },
  {
   "attachments": {},
   "cell_type": "markdown",
   "id": "119b1c76-f050-4f55-968c-9e091854a657",
   "metadata": {},
   "source": [
    "#ollow the Instructions in Merlin 2.2 for Assembly"
   ]
  },
  {
   "attachments": {},
   "cell_type": "markdown",
   "metadata": {},
   "source": [
    "# Assembly of robot: Up to 1R manipulator (1 rotation manipulator)"
   ]
  },
  {
   "attachments": {},
   "cell_type": "markdown",
   "metadata": {},
   "source": [
    "Use th code below to zero Joint 0"
   ]
  },
  {
   "cell_type": "code",
   "execution_count": null,
   "metadata": {},
   "outputs": [],
   "source": [
    "# Initialisation\n",
    "import merlin_hw\n",
    "from importlib import reload\n",
    "reload(merlin_hw)\n",
    "merlin_bot=merlin_hw.robot()\n",
    "scara_base_link1_slider=merlin_bot.get_scara_base_link1_slider()\n",
    "display(scara_base_link1_slider)\n",
    "merlin_bot.start()"
   ]
  },
  {
   "cell_type": "markdown",
   "metadata": {},
   "source": [
    "HAVE you SET the SLIDER to ZERO degrees? "
   ]
  },
  {
   "cell_type": "markdown",
   "metadata": {},
   "source": [
    "YOUR ANSWER:"
   ]
  },
  {
   "attachments": {},
   "cell_type": "markdown",
   "metadata": {},
   "source": [
    "### Well done!!! With that we have completed the assembly of the first arm of the robot (1R manipulator)."
   ]
  },
  {
   "attachments": {},
   "cell_type": "markdown",
   "metadata": {},
   "source": [
    "### Individual: Question:\n",
    "What do you think is the reason for using a turn table instead of directly connecting the motor to the first arm?"
   ]
  },
  {
   "attachments": {},
   "cell_type": "markdown",
   "metadata": {},
   "source": [
    "Your answer:"
   ]
  },
  {
   "attachments": {},
   "cell_type": "markdown",
   "metadata": {},
   "source": [
    "## Hybrid Exercise 3: Full Transformation for 1R (1 rotation manipulator):\n",
    "\n",
    "Before beginning the actual full transformation exercise, each of you have to provide an engineering example (need not be related to robotics) where mathematics is used.\n",
    "\n",
    "Your answers:\n",
    "\n",
    "Example from Team member 1:\n",
    "\n",
    "Example from Team member 2:\n",
    "\n",
    "Example from Team member 3:\n",
    "\n",
    "Example from Team member 4:\n",
    "\n",
    "Example from Team member 5:\n",
    "\n",
    "Example from Team member 6:"
   ]
  },
  {
   "attachments": {},
   "cell_type": "markdown",
   "metadata": {},
   "source": [
    "31 in the below comes from the length of the first arm (link1) (i.e.) 31 cm."
   ]
  },
  {
   "attachments": {},
   "cell_type": "markdown",
   "metadata": {},
   "source": [
    "We learnt how transformation matrices are very important in robotics to move any coordinate information from one frame to another frame. We used it for rotation alone in the previous exercise (Drone-Fruit problem). Now let's try to do a full transformation for one link. Going back to the standard servo on the board which you used for the first exercise. The position of the end hole (origin of link1 frame) in its own frame (Link1) is given by:\n",
    "\n",
    "\n",
    "\\begin{equation}\n",
    "{}^{link1}{p (link1origin)}= \n",
    "\\begin{bmatrix}\n",
    "{}^{link1}{p}_{x}\\\\\n",
    "{}^{link1}{p}_{y}\\\\\n",
    "{}^{link1}{p}_{z}\\\\\n",
    "1\n",
    "\\end{bmatrix}= \n",
    "\\begin{bmatrix}\n",
    "0\\\\\n",
    "0\\\\\n",
    "0\\\\\n",
    "1\n",
    "\\end{bmatrix}\n",
    "\\end{equation}\n",
    "\n",
    "Remember from the lecture, the full transformation matrix which helps to transform the position of the end hole (origin of Link1 frame) from its own frame (Link1) to base frame (Base) is given by:\n",
    "\n",
    "\\begin{equation}\n",
    "{}^{Base}{T}_{Link1}= \n",
    "\\begin{bmatrix}\n",
    "{}^{Base}{R}_{Link1} & |&{}^{Base}{t}_{Link1}\\\\\n",
    "\\hline\n",
    "0 & |&1\n",
    "\\end{bmatrix}= \n",
    "\\begin{bmatrix}\n",
    "\\cos(\\theta_1) & -\\sin(\\theta_1) & 0 & |&{t}_{x}\\\\\n",
    "\\sin(\\theta_1) & \\cos(\\theta_1) & 0 & |&{t}_{y}\\\\\n",
    "0 & 0 & 1 & |&{t}_{z}\\\\\n",
    "\\hline\n",
    "0 & 0 & 0 & |&1\n",
    "\\end{bmatrix} \n",
    "\\end{equation}\n",
    "\n",
    "\\begin{equation}\n",
    "= \n",
    "\\begin{bmatrix}\n",
    "\\cos(\\theta_1) & -\\sin(\\theta_1) & 0 & |&31\\cos(\\theta_1)\\\\\n",
    "\\sin(\\theta_1) & \\cos(\\theta_1) & 0 & |&31\\sin(\\theta_1)\\\\\n",
    "0 & 0 & 1 & |&0\\\\\n",
    "\\hline\n",
    "0 & 0 & 0 & |&1\n",
    "\\end{bmatrix} \n",
    "\\end{equation}\n",
    "\n",
    "where $\\theta_1$ is the joint angle the rotation of ${Link1}$ with reference to ${Base}$ along ${Z}$ axis of ${Base}$ (i.e.`yaw`). \n",
    "\n",
    "The following equation helps to convert the link1origin from its own frame to baseframe:\n",
    "\n",
    "\\begin{equation}\n",
    "{}^{Base}{p(link1origin)}={}^{Base}{T}_{Link1} \\cdot {}^{Link1}{p (link1origin)}\n",
    "\\end{equation}\n",
    "\n",
    "Substituting will give,\n",
    "\\begin{equation}\n",
    "{}^{Base}{p(link1origin)}=\n",
    "\\begin{bmatrix}\n",
    "\\cos(\\theta_1) & -\\sin(\\theta_1) & 0 & |&31\\cos(\\theta_1)\\\\\n",
    "\\sin(\\theta_1) & \\cos(\\theta_1) & 0 & |&31\\sin(\\theta_1)\\\\\n",
    "0 & 0 & 1 & |&0\\\\\n",
    "\\hline\n",
    "0 & 0 & 0 & |&1\n",
    "\\end{bmatrix} \n",
    "\\cdot \n",
    "\\begin{bmatrix}\n",
    "0\\\\\n",
    "0\\\\\n",
    "0\\\\\n",
    "1\n",
    "\\end{bmatrix}\n",
    "\\end{equation}\n"
   ]
  },
  {
   "cell_type": "markdown",
   "metadata": {},
   "source": [
    "<link rel=\"stylesheet\" href=\"https://maxcdn.bootstrapcdn.com/bootstrap/3.4.1/css/bootstrap.min.css\">\n",
    "<div class=\"alert alert-block alert-info\">\n",
    "<b>To be worked out by each members:</b>\n",
    "Use hand calculation, either with pen and paper or stylus/smartdevice to evaluate the above matrix for various values of theta. \n",
    "</div>\n",
    "\n",
    "If one of the team member is missing or your team has lesser number of members leave that blank, choose among you randomly. Use teams chat or imgbb.com or email or any of your favourite service to send images from your mobile phone to the workbook. Save the image as `hand_calculation_memberX.jpeg` where `X` is a member number from `1 to 6` Make sure to work this out now.  You can add this to this notebook later when you are reflecting if you wish.\n",
    "\n",
    "#### Your Hand Calculations:\n",
    "\n",
    "$\\theta_1$ value to be used by Team member 1 is $-30\\degree$"
   ]
  },
  {
   "cell_type": "markdown",
   "metadata": {},
   "source": [
    "\n",
    "Team member 1 Name:\n",
    "\n",
    "# <center><img src=\"Images/hand_calculation_member1.jpeg?=0\" width=\"200\" /> </center>\n",
    "<center><b>Member 1's hand calculation</b> </center>"
   ]
  },
  {
   "cell_type": "markdown",
   "metadata": {},
   "source": [
    "$\\theta_1$ value to be used by Team member 2 is $-45\\degree$"
   ]
  },
  {
   "cell_type": "markdown",
   "metadata": {},
   "source": [
    "\n",
    "Team member 2 Name:\n",
    "\n",
    "# <center><img src=\"Images/hand_calculation_member2.jpeg?=0\" width=\"200\" /> </center>\n",
    "<center><b>Member 2's hand calculation</b> </center>"
   ]
  },
  {
   "cell_type": "markdown",
   "metadata": {},
   "source": [
    "$\\theta_1$ value to be used by Team member 3 is $30\\degree$"
   ]
  },
  {
   "cell_type": "markdown",
   "metadata": {},
   "source": [
    "\n",
    "Team member 3 Name:\n",
    "\n",
    "# <center><img src=\"Images/hand_calculation_member3.jpeg?=0\" width=\"200\" /> </center>\n",
    "<center><b>Member 3's hand calculation</b> </center>"
   ]
  },
  {
   "cell_type": "markdown",
   "metadata": {},
   "source": [
    "$\\theta_1$ value to be used by Team member 4 is $45\\degree$"
   ]
  },
  {
   "cell_type": "markdown",
   "metadata": {},
   "source": [
    "\n",
    "Team member 4 Name:\n",
    "\n",
    "# <center><img src=\"Images/hand_calculation_member4.jpeg?=0\" width=\"200\" /> </center>\n",
    "<center><b>Member 4's hand calculation</b> </center>"
   ]
  },
  {
   "cell_type": "markdown",
   "metadata": {},
   "source": [
    "$\\theta_1$ value to be used by Team member 5 is $60\\degree$"
   ]
  },
  {
   "cell_type": "markdown",
   "metadata": {},
   "source": [
    "\n",
    "Team member 5 Name:\n",
    "\n",
    "# <center><img src=\"Images/hand_calculation_member5.jpeg?=0\" width=\"200\" /> </center>\n",
    "<center><b>Member 5's hand calculation</b> </center>"
   ]
  },
  {
   "cell_type": "markdown",
   "metadata": {},
   "source": [
    "$\\theta_1$ value to be used by Team member 6 is $-60\\degree$"
   ]
  },
  {
   "cell_type": "markdown",
   "metadata": {},
   "source": [
    "\n",
    "Team member 6 Name:\n",
    "\n",
    "# <center><img src=\"Images/hand_calculation_member6.jpeg?=0\" width=\"200\" /> </center>\n",
    "<center><b>Member 6's hand calculation</b> </center>"
   ]
  },
  {
   "attachments": {},
   "cell_type": "markdown",
   "metadata": {},
   "source": [
    "# Group Exercise 4: Testing your hand calculations in a real scenario-1R Manipulator\n",
    "\n",
    "Let's try to test what you have hand calculated in a real scenario. Make sure the base servo is connected to pin 0. Use the slider to change the angle to various hand calculated value in the previous section. Observe the \n",
    "\\begin{equation}\n",
    "{}^{Base}{p(link1origin)}\n",
    "\\end{equation}\n",
    "\n",
    "in the base frame calculated by the python utility. Compare it and see whether it is matching in terms of x and y coordinate to the real world and to your calculations from the previous step for the respective angles."
   ]
  },
  {
   "cell_type": "code",
   "execution_count": null,
   "metadata": {},
   "outputs": [],
   "source": [
    "%matplotlib widget\n",
    "# Initialisation\n",
    "import merlin_hw\n",
    "from importlib import reload\n",
    "import matplotlib.pyplot as plt\n",
    "reload(merlin_hw)\n",
    "plt.close('all')\n",
    "plt.ion()\n",
    "# Creating plot\n",
    "scara_fig, ax = plt.subplots(figsize = (5, 2.5))\n",
    "merlin_bot=merlin_hw.robot()\n",
    "scara_base_link1_slider=merlin_bot.get_1r_manipulator_layout(scara_fig,ax)\n",
    "display(scara_base_link1_slider)\n",
    "merlin_bot.start()\n"
   ]
  },
  {
   "attachments": {},
   "cell_type": "markdown",
   "metadata": {},
   "source": [
    "Cross check all your calculations above and see whether they are matching with the real 1 R manipulator.  Note that `X` is pointing to the front in Merlin while `Y` axis is to its left, `Z` axis is coming out of the board.\n",
    "\n",
    "Answer Yes or No: (If required ask instructor, if the calculations require changes feel free to amend that and make sure you are able to understand it)\n"
   ]
  },
  {
   "cell_type": "markdown",
   "metadata": {},
   "source": [
    "Your answer:\n",
    "\n",
    "Calculations are correct:\n",
    "\n",
    "Able to correlate the x,y coordinates in the real robot and the calculation:\n"
   ]
  },
  {
   "attachments": {},
   "cell_type": "markdown",
   "metadata": {},
   "source": [
    "## Group Exercise 5: Assembling the 2R manipulator\n",
    "\n",
    "Let's assemble the second link to merlin microSCARA. \n",
    "\n",
    "<link rel=\"stylesheet\" href=\"https://maxcdn.bootstrapcdn.com/bootstrap/3.4.1/css/bootstrap.min.css\">\n",
    "<div class=\"alert alert-block alert-info\">\n",
    "<b>Note:</b>\n",
    "Follow the instructions exactly. If in doubt, ask the instructor rather than guessing. Cross check with the instructor when in doubt. \n",
    "</div>\n",
    "\n",
    "Make the Theta0 angle to go to zero degree using the slider below. \n",
    "\n",
    "Connect the second servo to the second pin of the driver board. Make the Theta1 angle to go to zero degree using the slider below. \n",
    "\n",
    "***This is important. Before next Step Ensure that Servo Joint 0 and Servo Joint 1 are set to 0 Degrees using the\n",
    "sliders. If you do not set these to 0 then the\n",
    "starting position of the robot arms will be wrong.***\n",
    "\n",
    "<link rel=\"stylesheet\" href=\"https://maxcdn.bootstrapcdn.com/bootstrap/3.4.1/css/bootstrap.min.css\">\n",
    "<div class=\"alert alert-block alert-info\">\n",
    "<b>Note:</b>\n",
    "These servos can be jittery particularly when the weight is added. That is alright. We will talk of how jitters can be avoided in the lectures. \n",
    "</div>"
   ]
  },
  {
   "cell_type": "code",
   "execution_count": null,
   "metadata": {},
   "outputs": [],
   "source": [
    "# Initialisation\n",
    "import merlin_hw\n",
    "from importlib import reload\n",
    "reload(merlin_hw)\n",
    "merlin_bot=merlin_hw.robot()\n",
    "scara_base_link1_slider=merlin_bot.get_scara_base_link1_slider()\n",
    "scara_link1_link2_slider=merlin_bot.get_scara_link1_link2_slider()\n",
    "display(scara_base_link1_slider,scara_link1_link2_slider)\n",
    "merlin_bot.start()"
   ]
  },
  {
   "attachments": {},
   "cell_type": "markdown",
   "metadata": {},
   "source": [
    "For the second joint's Motor, place one of each black hubs as in the image below.\n",
    "\n",
    "<center><img\n",
    "src=\"Images/image39.png\"\n",
    "style=\"width:2.25758in;height:3.48681in\" /></center>\n",
    "\n",
    "Secure the joint bracket to the shorter arm (link2) using M8 x 20mm bolt as shown in the figure below. Then slide in servo and secure using the small servo screws. Note the motor wiring connectors are towards the top (toothed metal shafts towards the bottom).\n",
    "\n",
    "<center><img\n",
    "src=\"Images/image40.png?1\"\n",
    "style=\"width:4.54375in;height:3.97986in\" /></center>\n",
    "\n",
    "With the motor wiring connectors towards the top, secure the other joint bracket to the Long\n",
    "Arm and then secure the servo via the small servo screws. \n",
    "\n",
    "<center><img\n",
    "src=\"Images/image41.png\"\n",
    "style=\"width:3.52083in;height:3.09931in\" /></center>"
   ]
  },
  {
   "attachments": {},
   "cell_type": "markdown",
   "metadata": {},
   "source": [
    "With that we have assembled the 2R manipulator (two rotation), use the sliders above to move your 2R manipulator\n",
    "\n",
    "<center><img src=\"Images/links_transforms.png?0\" width=\"800\" /> </center>"
   ]
  },
  {
   "attachments": {},
   "cell_type": "markdown",
   "metadata": {},
   "source": [
    "## Hybrid Exercise 6: Chain of transformation for 2R (2 rotation manipulator)-Forward Kinematics:\n",
    "\n",
    "The following figure shows the kind of questions we should ask when we are considering to build robotic manipulators for various applications:\n",
    "\n",
    "# <center><img src=\"Images/questions.png?=0\" width=\"500\" /> </center>\n",
    "\n",
    "\n",
    "<link rel=\"stylesheet\" href=\"https://maxcdn.bootstrapcdn.com/bootstrap/3.4.1/css/bootstrap.min.css\">\n",
    "<div class=\"alert alert-block alert-info\">\n",
    "<b>Note:</b>\n",
    "Any time you see big equations, try to resist the urge to skip and move on to next session. Instead try to ponder over. Spend some time in each step and see whether it makes sense. Ask instructor for clarification if you could not understand any of the steps. \n",
    "</div>\n",
    "\n",
    "Often times we would like to know for a given set of joint angles (say Theta 0=25.2 degrees and Theta1=67.3 degrees) where exactly our end effector will be. \n",
    "\n",
    "Forward/direct Kinematics refers to using kinematic equation (often in the form of matrices) to calculate the end effector pose from the positions or joint angles of the individual joints.\n",
    "\n",
    "\n",
    "For example, in the previous 1R manipulator case when the Theta0 is at 0 degrees the link1_origin will be at (31 cm,0)\n",
    "when Theta0 is at 90 degrees the link1_origin will be at (0,31 cm), when theta0 is at 45 degrees the link1_origin will be at (21.9 cm,21.9 cm). \n",
    "\n",
    "Let's try to find the forward kinematics equation for the 2R manipulator. The position of the end hole (origin of link2 frame) in its own frame (Link2, here after refered to as EE) is given by:\n",
    "\n",
    "\n",
    "\\begin{equation}\n",
    "{}^{EE}{p (EEorigin)}= \n",
    "\\begin{bmatrix}\n",
    "{}^{EE}{p}_{x}\\\\\n",
    "{}^{EE}{p}_{y}\\\\\n",
    "{}^{EE}{p}_{z}\\\\\n",
    "1\n",
    "\\end{bmatrix}= \n",
    "\\begin{bmatrix}\n",
    "0\\\\\n",
    "0\\\\\n",
    "0\\\\\n",
    "1\n",
    "\\end{bmatrix}\n",
    "\\end{equation}\n",
    "\n",
    "The full transformation matrix which helps to transform the position of the end hole (EE origin position) from its own frame (`EE`) to base frame (`Base`) is given by:\n",
    "\n",
    "\\begin{equation}\n",
    "{}^{Base}{T}_{EE}= \n",
    "\\begin{bmatrix}\n",
    "{}^{Base}{R}_{EE} & |&{}^{Base}{t}_{EE}\\\\\n",
    "\\hline\n",
    "0 & |&1\n",
    "\\end{bmatrix}\n",
    "=\n",
    "{}^{Base}{T}_{Link1}\n",
    "\\cdot \n",
    "{}^{Link1}{T}_{EE}\n",
    "= \n",
    "\\begin{bmatrix}\n",
    "{}^{Base}{R}_{Link1} & |&{}^{Base}{t}_{Link1}\\\\\n",
    "\\hline\n",
    "0 & |&1\n",
    "\\end{bmatrix}\n",
    "\\cdot\n",
    "\\begin{bmatrix}\n",
    "{}^{Link1}{R}_{EE} & |&{}^{Link1}{t}_{EE}\\\\\n",
    "\\hline\n",
    "0 & |&1\n",
    "\\end{bmatrix}\n",
    "\\end{equation}\n",
    "\n",
    "\\begin{equation}\n",
    "= \n",
    "\\begin{bmatrix}\n",
    "\\cos(\\theta_1) & -\\sin(\\theta_1) & 0 & |&{}^{Base}{{t}_{x}}_{Link1}\\\\\n",
    "\\sin(\\theta_1) & \\cos(\\theta_1) & 0 & |&{}^{Base}{{t}_{y}}_{Link1}\\\\\n",
    "0 & 0 & 1 & |&{}^{Base}{{t}_{z}}_{Link1}\\\\\n",
    "\\hline\n",
    "0 & 0 & 0 & |&1\n",
    "\\end{bmatrix}\n",
    "\\cdot \n",
    "\\begin{bmatrix}\n",
    "\\cos(\\theta_2) & -\\sin(\\theta_2) & 0 & |&{}^{Link1}{{t}_{x}}_{EE}\\\\\n",
    "\\sin(\\theta_2) & \\cos(\\theta_2) & 0 & |&{}^{Link1}{{t}_{y}}_{EE}\\\\\n",
    "0 & 0 & 1 & |&{}^{Link1}{{t}_{z}}_{EE}\\\\\n",
    "\\hline\n",
    "0 & 0 & 0 & |&1\n",
    "\\end{bmatrix}\n",
    "\\end{equation}\n",
    "\n",
    "\\begin{equation}\n",
    "= \n",
    "\\begin{bmatrix}\n",
    "\\cos(\\theta_1) & -\\sin(\\theta_1) & 0 & |&31\\cos(\\theta_1)\\\\\n",
    "\\sin(\\theta_1) & \\cos(\\theta_1) & 0 & |&31\\sin(\\theta_1)\\\\\n",
    "0 & 0 & 1 & |&0\\\\\n",
    "\\hline\n",
    "0 & 0 & 0 & |&1\n",
    "\\end{bmatrix}\n",
    "\\cdot \n",
    "\\begin{bmatrix}\n",
    "\\cos(\\theta_2) & -\\sin(\\theta_2) & 0 & |&24\\cos(\\theta_2)\\\\\n",
    "\\sin(\\theta_2) & \\cos(\\theta_2) & 0 & |&24\\sin(\\theta_2)\\\\\n",
    "0 & 0 & 1 & |&0\\\\\n",
    "\\hline\n",
    "0 & 0 & 0 & |&1\n",
    "\\end{bmatrix}\n",
    "\n",
    "\\end{equation}\n",
    "\n",
    "where $\\theta_1$ is the joint angle the rotation of ${Link1}$ with reference to ${Base}$ and $\\theta_2$ is the joint angle the rotation of ${Link2 or EE}$ with reference to ${Link1}\n",
    "\n",
    "The following equation helps to convert the EEorigin from its own frame to baseframe:\n",
    "\n",
    "\\begin{equation}\n",
    "{}^{Base}{p(EEorigin)}={}^{Base}{T}_{Link1} \\cdot {}^{Link1}{T}_{EE} \\cdot {}^{EE}{p (EEorigin)}\n",
    "\\end{equation}\n",
    "\n",
    "Substituting will give,\n",
    "\\begin{equation}\n",
    "{}^{Base}{p(EEorigin)}=\n",
    "\\begin{bmatrix}\n",
    "\\cos(\\theta_1) & -\\sin(\\theta_1) & 0 & |&31\\cos(\\theta_1)\\\\\n",
    "\\sin(\\theta_1) & \\cos(\\theta_1) & 0 & |&31\\sin(\\theta_1)\\\\\n",
    "0 & 0 & 1 & |&0\\\\\n",
    "\\hline\n",
    "0 & 0 & 0 & |&1\n",
    "\\end{bmatrix} \n",
    "\\cdot \n",
    "\\begin{bmatrix}\n",
    "\\cos(\\theta_2) & -\\sin(\\theta_2) & 0 & |&24\\cos(\\theta_2)\\\\\n",
    "\\sin(\\theta_2) & \\cos(\\theta_2) & 0 & |&24\\sin(\\theta_2)\\\\\n",
    "0 & 0 & 1 & |&0\\\\\n",
    "\\hline\n",
    "0 & 0 & 0 & |&1\n",
    "\\end{bmatrix} \n",
    "\\cdot \n",
    "\\begin{bmatrix}\n",
    "0\\\\\n",
    "0\\\\\n",
    "0\\\\\n",
    "1\n",
    "\\end{bmatrix}\n",
    "\\end{equation}\n",
    "\n"
   ]
  },
  {
   "cell_type": "markdown",
   "metadata": {},
   "source": [
    "<link rel=\"stylesheet\" href=\"https://maxcdn.bootstrapcdn.com/bootstrap/3.4.1/css/bootstrap.min.css\">\n",
    "<div class=\"alert alert-block alert-info\">\n",
    "<b>To be worked out by each members:</b>\n",
    "Use hand calculation, either with pen and paper or stylus/smartdevice to evaluate the above matrix for various values of theta. \n",
    "</div>\n",
    "\n",
    "If one of the team member is missing or your team has lesser number of members leave that blank, choose among you randomly. Use teams chat or imgbb.com or email or any of your favourite service to send images from your mobile phone to the workbook computer. Save the image as `hand_calculation2_memberX.jpeg` where `X` is a member number from `1 to 6` Make sure to work this out now.  You can add the images to this notebook later when you are reflecting if you wish.\n",
    "\n",
    "#### Your Hand Calculations:\n",
    "\n",
    "Team member 1: Use $\\theta_1$=$0\\degree$ and $\\theta_2$=$45\\degree$"
   ]
  },
  {
   "cell_type": "markdown",
   "metadata": {},
   "source": [
    "\n",
    "Team member 1 Name:\n",
    "\n",
    "# <center><img src=\"Images/hand_calculation2_member1.jpeg?=0\" width=\"500\" /> </center>\n",
    "<center><b>Member 1's hand calculation</b> </center>"
   ]
  },
  {
   "cell_type": "markdown",
   "metadata": {},
   "source": [
    "Team member 2: Use $\\theta_1$=$30\\degree$ and $\\theta_2$=$45\\degree$"
   ]
  },
  {
   "cell_type": "markdown",
   "metadata": {},
   "source": [
    "\n",
    "Team member 2 Name:\n",
    "\n",
    "# <center><img src=\"Images/hand_calculation2_member2.jpeg?=0\" width=\"200\" /> </center>\n",
    "<center><b>Member 2's hand calculation</b> </center>"
   ]
  },
  {
   "cell_type": "markdown",
   "metadata": {},
   "source": [
    "Team member 3: Use $\\theta_1$=$60\\degree$ and $\\theta_2$=$30\\degree$"
   ]
  },
  {
   "cell_type": "markdown",
   "metadata": {},
   "source": [
    "\n",
    "Team member 3 Name:\n",
    "\n",
    "# <center><img src=\"Images/hand_calculation2_member3.jpeg?=0\" width=\"200\" /> </center>\n",
    "<center><b>Member 3's hand calculation</b> </center>"
   ]
  },
  {
   "cell_type": "markdown",
   "metadata": {},
   "source": [
    "Team member 4: Use $\\theta_1$=$-45\\degree$ and $\\theta_2$=$45\\degree$"
   ]
  },
  {
   "cell_type": "markdown",
   "metadata": {},
   "source": [
    "\n",
    "Team member 4 Name:\n",
    "\n",
    "# <center><img src=\"Images/hand_calculation2_member4.jpeg?=0\" width=\"200\" /> </center>\n",
    "<center><b>Member 4's hand calculation</b> </center>"
   ]
  },
  {
   "cell_type": "markdown",
   "metadata": {},
   "source": [
    "Team member 5: Use $\\theta_1$=$-60\\degree$ and $\\theta_2$=$60\\degree$"
   ]
  },
  {
   "cell_type": "markdown",
   "metadata": {},
   "source": [
    "\n",
    "Team member 5 Name:\n",
    "\n",
    "# <center><img src=\"Images/hand_calculation2_member5.jpeg?=0\" width=\"200\" /> </center>\n",
    "<center><b>Member 5's hand calculation</b> </center>"
   ]
  },
  {
   "cell_type": "markdown",
   "metadata": {},
   "source": [
    "Team member 6: Use $\\theta_1$=$30\\degree$ and $\\theta_2$=$-60\\degree$"
   ]
  },
  {
   "cell_type": "markdown",
   "metadata": {},
   "source": [
    "\n",
    "Team member 6 Name:\n",
    "\n",
    "# <center><img src=\"Images/hand_calculation2_member6.jpeg?=0\" width=\"200\" /> </center>\n",
    "<center><b>Member 6's hand calculation</b> </center>"
   ]
  },
  {
   "cell_type": "code",
   "execution_count": null,
   "metadata": {},
   "outputs": [],
   "source": [
    "%matplotlib widget\n",
    "# Initialisation\n",
    "import merlin_hw\n",
    "from importlib import reload\n",
    "import matplotlib.pyplot as plt\n",
    "reload(merlin_hw)\n",
    "plt.close('all')\n",
    "plt.ion()\n",
    "# Creating plot\n",
    "scara_fig, ax = plt.subplots(figsize = (5, 2.5))\n",
    "merlin_bot=merlin_hw.robot()\n",
    "control_2r=merlin_bot.get_2r_manipulator_layout(scara_fig,ax)\n",
    "display(control_2r)\n",
    "merlin_bot.start()"
   ]
  },
  {
   "cell_type": "markdown",
   "metadata": {},
   "source": [
    "<link rel=\"stylesheet\" href=\"https://maxcdn.bootstrapcdn.com/bootstrap/3.4.1/css/bootstrap.min.css\">\n",
    "<div class=\"alert alert-block alert-info\">\n",
    "<b>Answer to the questions below are individual component to be filled later. Move on to the hybrid exercise.</b>\n",
    "</div>"
   ]
  },
  {
   "cell_type": "markdown",
   "metadata": {},
   "source": [
    "Cross check all your calculations above and see whether they are matching with the real 1 R manipulator. If required you can use the provided pencil in the bracket as a pointer (Don't let it touch the board yet).  Note that `X` is pointing down in case of the microscara robot on board while `Y` axis is to its right, `Z` axis is coming out of the board.\n",
    "\n",
    "Answer Yes or No: (If required ask instructor, if the calculations require changes feel free to amend that and make sure you are able to understand it)\n"
   ]
  },
  {
   "attachments": {},
   "cell_type": "markdown",
   "metadata": {},
   "source": [
    "Your answer:\n",
    "\n",
    "Calculations are correct:\n",
    "\n",
    "Able to correlate the x,y coordinates in the real robot and the calculation:\n",
    "\n",
    "What is the degree of freedom (dof) of the 2R manipulator?\n",
    "\n",
    "How many full transformation matrices has to be multipled minimum to model a 6-dof robotic manipulator such as the one show below?\n",
    "\n",
    "What is forward kinematics in your own words?\n"
   ]
  },
  {
   "attachments": {},
   "cell_type": "markdown",
   "metadata": {},
   "source": [
    "# <center><img src=\"Images/6-dof-robot.jpg?=0\" width=\"400\" /> </center>\n",
    "# Group Exercise 8: Inverse Kinematics\n",
    "\n",
    "Now think of the inverse problem. We don't just want to know what will be the EE position given the joint positions/angles(Forward kinematics), instead, we want our robot arm to move to a particular EE position which we want. For example what all joint angles the above 6-dof robot has to travel to Move the pencil to draw the portrait. Or think of the NASA Valkyrie example where you tried to control a range of joint angle to make the robonaut to go to a particular position. How can we equip our robot manipulator to find out the joint angles for a desired position by itself. \n",
    "\n",
    "# <center><img src=\"Images/Kinematics.png?=0\" width=\"600\" /> </center>\n",
    "\n",
    "The solution to this is inverse kinematics. Inverse kinematics refers to calculating the variable joint positions required to place the end effector of a robot manipulator to a given position and orientation relative to the start of a kinematic chain."
   ]
  },
  {
   "attachments": {},
   "cell_type": "markdown",
   "metadata": {},
   "source": [
    "1) Run the next cell.\n",
    "2) Then click multiple times inside the canvas (shaded region) to draw paths. Think of these paths as a welding profile.\n",
    "3) Press start. \n",
    "4) You will see that the triangle is traced by our humble 2R-manipulator using inverse kinematics. You can add a piece of paper and a pencil or sketch pen (with the provided brackets) to it to trace if you wish.\n",
    "\n",
    "Beyond the precision limitation and dead bandwidth, these servos also have joint limitations. They cannot rotate 360 degrees unlike industrial motors. But we learnt a lot of terminologies, conventions and mathematical tools which robot makers use by working on these exercises."
   ]
  },
  {
   "cell_type": "code",
   "execution_count": null,
   "metadata": {},
   "outputs": [],
   "source": [
    "%matplotlib widget\n",
    "# Initialisation\n",
    "import merlin_hw\n",
    "from importlib import reload\n",
    "import matplotlib.pyplot as plt\n",
    "reload(merlin_hw)\n",
    "plt.close('all')\n",
    "plt.ion()\n",
    "# Creating plot\n",
    "scara_fig, ax = plt.subplots(figsize = (5, 2.5))\n",
    "merlin_bot=merlin_hw.robot()\n",
    "control_2r=merlin_bot.get_2r_manipulator_ik_layout(scara_fig,ax)\n",
    "#control_2r\n",
    "merlin_bot.start()\n",
    "display(control_2r)"
   ]
  },
  {
   "attachments": {},
   "cell_type": "markdown",
   "metadata": {},
   "source": [
    "# Merlin-Wiring Up-Adding the wheels\n",
    "\n",
    "Let's complete our Merlin wiring up.\n",
    "\n",
    "The wheel motors are labeled 1 to 4. They have to fixed in this order, 1 to front left, 2 to front right, 3 to rear left, 4 to rear right.\n",
    "\n",
    "# <center><img src=\"Images/Merlin.png?=0\" width=\"500\" /> </center>\n",
    "\n",
    "Use an M5 x 20mm Screw to add the wheel motor Assembly to each end of\n",
    "the X Frame. \n",
    "\n",
    "**Make sure to attach the right motor to the right place.**\n",
    "\n",
    "<img\n",
    "src=\"Images/image37.png\"\n",
    "style=\"width:3.38333in;height:2.79375in\" />\n",
    "\n",
    "Secure Omni-wheel to the Assembly Hub with the M4 x 8mm bolts\n",
    "\n",
    "<img\n",
    "src=\"Images/image38.png\"\n",
    "style=\"width:4.76042in;height:3.95801in\" />\n",
    "\n",
    "With that we have completed the full assembly of the Merlin robot.\n",
    "\n",
    "\n",
    "<center><img\n",
    "src=\"Images/image42.png?1\"\n",
    "style=\"width:9.69306in;height:5.39236in\" />/<center>\n",
    "\n",
    "\n",
    "Connect the wires of the wheel servos (1-4) to the pins 12 to 15 with the black wires of each of the servos towards the edge of the board. \n",
    "\n",
    "Run the next cell and you will have an interface to control the actuators of Merlin with a holonomic drive.\n",
    "\n",
    "\n",
    "\n",
    "**Important: Make sure the Merlin is lifted up and the xframes are seated over a platform or a box so the wheels are not touching the floor and can move freely.**"
   ]
  },
  {
   "cell_type": "code",
   "execution_count": null,
   "metadata": {},
   "outputs": [],
   "source": [
    "# Initialisation\n",
    "import merlin_hw\n",
    "import time\n",
    "from importlib import reload\n",
    "reload(merlin_hw)\n",
    "time.sleep(1)\n",
    "merlin_bot=merlin_hw.robot()\n",
    "control_merlin=merlin_bot.get_robot_control_layout()\n",
    "merlin_bot.start()\n",
    "display(control_merlin)\n"
   ]
  },
  {
   "cell_type": "code",
   "execution_count": null,
   "metadata": {},
   "outputs": [],
   "source": [
    "#If you prefer not to use sliders then you can use the following functions to directly specify the joint positions/throttles the robot\n",
    "\n",
    "merlin_bot.set_velocity_throttle(fwd_bwd_throttle=0,left_right_throttle=0,rotate_throttle=0) #range -1 to 1\n",
    "# merlin_bot.set_joint_pos(joint0_val=0, joint1_val=0,joint2_val=0,joint3_val=0)  #range -89 to 89\n"
   ]
  },
  {
   "cell_type": "markdown",
   "metadata": {},
   "source": [
    "Complete the following python code and make it to work. The throttle values require change."
   ]
  },
  {
   "cell_type": "code",
   "execution_count": null,
   "metadata": {},
   "outputs": [],
   "source": [
    "#Write a python code which signals the actuators to make Merlin rotate clockwise at a throttle speed of 0.2 for 2 seconds\n",
    "# and counterclockwise at a throttle speed of 0.2 for 2 seconds\n",
    "# forward at a throttle of 0.2 for 2 seconds\n",
    "# backwards at a throttle of 0.2 for 2 seconds\n",
    "# left at a throttle of 0.2 for 2 seconds\n",
    "# right at a throttle of 0.2 for 2 seconds\n",
    "\n",
    "import merlin_hw\n",
    "\n",
    "merlin_bot=merlin_hw.robot()\n",
    "merlin_bot.start()\n",
    "#Clockwise. Change the rotate_throttle output range -1 to 1\n",
    "merlin_bot.set_velocity_throttle(fwd_bwd_throttle=1.0,left_right_throttle=0,rotate_throttle=0) \n",
    "\n",
    "#Counterclockwise. Change the rotate_throttle output range -1 to 1\n",
    "merlin_bot.set_velocity_throttle(fwd_bwd_throttle=-1,left_right_throttle=0,rotate_throttle=0) \n",
    "\n",
    "#Forward\n",
    "merlin_bot.set_velocity_throttle(fwd_bwd_throttle=0,left_right_throttle=1,rotate_throttle=0) \n",
    "\n",
    "#Reverse\n",
    "merlin_bot.set_velocity_throttle(fwd_bwd_throttle=0,left_right_throttle=-1,rotate_throttle=0) \n",
    "\n",
    "#Left\n",
    "merlin_bot.set_velocity_throttle(fwd_bwd_throttle=0,left_right_throttle=0,rotate_throttle=1) \n",
    "\n",
    "#Right\n",
    "merlin_bot.set_velocity_throttle(fwd_bwd_throttle=0,left_right_throttle=0,rotate_throttle=-1) \n",
    "\n",
    "merlin_bot.set_velocity_throttle(fwd_bwd_throttle=0,left_right_throttle=0,rotate_throttle=0) "
   ]
  },
  {
   "attachments": {},
   "cell_type": "markdown",
   "metadata": {},
   "source": [
    "# Generic Motorwise Robot Control\n",
    "\n",
    "The following examples shows a generic motorwise control code using percentage values. You can use the below for your final project. If you wish."
   ]
  },
  {
   "cell_type": "code",
   "execution_count": null,
   "metadata": {},
   "outputs": [],
   "source": [
    "import merlin_motorwise\n",
    "\n",
    "merlin_bot=merlin_motorwise.robot()\n",
    "# merlin_bot.start()\n",
    "#Motor number can vary from 0 to 15 and Percentage signal/offset can be from -50% to 50%\n",
    "\n",
    "#Setting offset for both continous and standard servos as percentage\n",
    "#useful for fine tuning stop position of continuous servos and zero offset for discrete servos\n",
    "#merlin_bot.set_offset(6,14) #Motor number 6 and offset percentage 14% \n",
    "\n",
    "merlin_bot.set_signal_percent(1,50)\n",
    "merlin_bot.set_signal_percent(2,50)\n",
    "merlin_bot.set_signal_percent(3,50)\n",
    "merlin_bot.set_signal_percent(4,50)\n",
    "merlin_bot.set_signal_percent(5,50)\n",
    "merlin_bot.set_signal_percent(6,50)\n",
    "merlin_bot.set_signal_percent(7,50)\n",
    "merlin_bot.set_signal_percent(8,50)\n",
    "merlin_bot.set_signal_percent(9,50)\n",
    "merlin_bot.set_signal_percent(10,50)\n",
    "merlin_bot.set_signal_percent(11,50)\n",
    "merlin_bot.set_signal_percent(12,50)\n",
    "merlin_bot.set_signal_percent(13,50)\n",
    "merlin_bot.set_signal_percent(14,50)\n",
    "merlin_bot.set_signal_percent(15,50)\n",
    "\n",
    "#Setting signal for both continuous and standard servos\n",
    "# merlin_bot.set_signal_percent(3,50) #Motor number 6 and signal percentage 50%\n",
    "# merlin_bot.set_signal_percent(6,-50) #Motor number 6 and signal percentage -50%\n",
    "# merlin_bot.sleep(2) #Sleep for 2 seconds\n",
    "\n",
    "# merlin_bot.set_signal_percent(13,45) #Motor number 6 and signal percentage 50%\n",
    "# merlin_bot.sleep(2) #Sleep for 2 seconds\n",
    "# merlin_bot.set_signal_percent(4,-25) #Motor number 6 and signal percentage -50%\n",
    "# merlin_bot.sleep(2) #Sleep for 2 seconds\n",
    "\n",
    "# merlin_bot.set_signal_percent(14,0)\n",
    "# merlin_bot.sleep(2) #Sleep for 2 seconds\n",
    "# #If you wish, you can create your own function with these commands in it to drive forward, backward, right, left and so on.\n",
    "\n",
    "# merlin_bot.stop_all()"
   ]
  },
  {
   "attachments": {},
   "cell_type": "markdown",
   "metadata": {},
   "source": [
    "# Connecting to your robot/this VSCode notebook remotely\n",
    "\n",
    "We would like to remotely program and control the robot.\n",
    "\n",
    "1) Run the below to configure the wifi of your robot.\n",
    "Enter teamname when it prompts.\n",
    "Make note of the WiFI SSID HotspotName and the password."
   ]
  },
  {
   "cell_type": "code",
   "execution_count": null,
   "metadata": {},
   "outputs": [],
   "source": [
    "#Run this to configure the wifi of your robot\n",
    "# Enter teamname when it prompts\n",
    "#Make note of the WiFI SSID HotspotName and password\n",
    "%run -i \"Images/wifi_setup.py\""
   ]
  },
  {
   "attachments": {},
   "cell_type": "markdown",
   "metadata": {},
   "source": [
    "2) In the laptop  (NOT on Remote/Virtual PC but in local laptop). Create a mobile hotspot by clicking on the WiFi icon and \"Mobile hotspot\" icon.\n",
    "\n",
    "# <center><img src=\"Images/wifi.png?=0\" /> </center>\n",
    "\n",
    "3) Change the default SSID (Hotspot name) and password to the one you have noted down from the Raspberry Pi. \n",
    "\n",
    "Make sure to choose 2.4 GHz as the Network Band.\n",
    "\n",
    "4) Wait for the hotspot to be created.\n",
    "\n",
    "Restart the pi. The robot/pi will connect to the hotspot. Note down the ip address of the robot from the connection.\n",
    "\n",
    "5) Now open VS code in the laptop (NOT on Remote/Virtual PC but in local laptop)\n",
    "\n",
    "Press Ctrl+Shift+P. Search for \"Remote Install Remote Development Extensions\"\n",
    "\n",
    "# <center><img src=\"Images/remote_extension.png?=0\"/> </center>\n",
    "\n",
    "6) Install it.\n",
    "\n",
    "Click on this green colour icon in the left bottom of VSCode\n",
    "\n",
    "# <center><img src=\"Images/remote_connection_green.png?=0\" /> </center>\n",
    "\n",
    "7) Click on **connect to host**. **NOT** \"New WSL Window\".\n",
    "\n",
    "# <center><img src=\"Images/connect_to_host.png?=0\"  /> </center>\n",
    "\n",
    "8) Enter `ubuntu@ubuntu`. If you proceed further and it says the host/device does not exist in the next step, check whether the device has connected to your hotspot, note down the ip address and type `ubuntu@<IP address>` for example `ubuntu@192.168.137.10`.\n",
    "\n",
    "# <center><img src=\"Images/ubuntu_at_ubuntu.png?=0\"  /> </center>\n",
    "\n",
    "9) Press enter to connect,. Make sure to choose Linux (NOT Windows). Enter your password (ubuntu123 is the default password).\n",
    "\n",
    "10) You will be able to access the directories and run the jupyter notebooks of the pi remotely such as the one you are viewing right now.\n",
    "\n",
    "11) Use File --> Open Folder and open the Lab Exercise5 folder. Try running the this lab exercise ipynb file remotely.\n",
    "\n",
    "12) You can create your own version of your final demonstration ipynb file."
   ]
  },
  {
   "attachments": {},
   "cell_type": "markdown",
   "metadata": {
    "tags": []
   },
   "source": [
    "## With that, we have completed the assembly of the robot. Time to build a custom end effector of Merlin for the Challenge. Your instructor will provide further details about the scenario. All the best !!!"
   ]
  },
  {
   "attachments": {},
   "cell_type": "markdown",
   "metadata": {},
   "source": [
    "# Happy problem solving!!!\n",
    "\n",
    "### Individual Reflection: What did you learn from this exercise (100 to 200 words)? "
   ]
  },
  {
   "cell_type": "markdown",
   "metadata": {},
   "source": [
    "Your Reflection:\n",
    "\n",
    "1)\n",
    "\n",
    "2)\n",
    "\n",
    "3)"
   ]
  },
  {
   "cell_type": "code",
   "execution_count": null,
   "metadata": {},
   "outputs": [],
   "source": [
    "#Run this to digitally sign your report at the end\n",
    "%run -i \"Images/DigiSign.signer\""
   ]
  },
  {
   "attachments": {},
   "cell_type": "markdown",
   "metadata": {},
   "source": [
    "## PS: Uploading your final exercise to dropbox\n",
    "\n",
    "1) Zip all the files in your exercise folder (i.e. Unit3_ThinkBinaryThinkLogic or other directory name) in to one zip file. You can do it by right clicking in the folder in Windows Explorer (Outside VSCode, not in VSCode) and send to \"Compressed/Zipped Folder\"\n",
    "<img src=\"Images/rightclick_zip.png\" width=\"750\" align=\"center\">\n",
    "\n",
    "2) Upload it to the dropbox.\n",
    "3) Back up the entire folder/zip file in your own Onedrive folder for your later reference and peace of mind.\n"
   ]
  },
  {
   "cell_type": "code",
   "execution_count": null,
   "metadata": {},
   "outputs": [],
   "source": [
    "#Code to change servoID\n",
    "#Use power supply for servoID change not the powerbank\n",
    "import merlin_hw\n",
    "OldID=5\n",
    "NewID=5\n",
    "merlin_hw._changeServoId(OldID,NewID)\n"
   ]
  },
  {
   "cell_type": "code",
   "execution_count": null,
   "metadata": {},
   "outputs": [],
   "source": [
    "%pip install ipympl"
   ]
  },
  {
   "cell_type": "code",
   "execution_count": null,
   "metadata": {},
   "outputs": [],
   "source": [
    "import merlin_hw\n",
    "import time\n",
    "from importlib import reload\n",
    "reload(merlin_hw)\n",
    "merlin_bot=merlin_hw.robot()\n",
    "merlin_bot.start()\n",
    "\n",
    "merlin_bot.initiate_position_sensing()\n"
   ]
  },
  {
   "cell_type": "code",
   "execution_count": null,
   "metadata": {},
   "outputs": [],
   "source": [
    "while True:\n",
    "    position=merlin_bot.read_position()\n",
    "    print(position)\n",
    "    time.sleep(0.2)"
   ]
  },
  {
   "cell_type": "code",
   "execution_count": null,
   "metadata": {},
   "outputs": [],
   "source": [
    "# Final code\n",
    "import merlin_hw\n",
    "import time\n",
    "from importlib import reload\n",
    "reload(merlin_hw)\n",
    "time.sleep(1)\n",
    "merlin_bot=merlin_hw.robot()\n",
    "control_merlin=merlin_bot.get_robot_control_layout()\n",
    "merlin_bot.start()\n",
    "merlin_bot.set_velocity_throttle(fwd_bwd_throttle=0,left_right_throttle=0,rotate_throttle=0) #range -1 to 1\n",
    "merlin_bot.set_joint_pos(joint0_val=0, joint1_val=0,joint2_val=89,joint3_val=0)  #range -89 to 89\n",
    "display(control_merlin)\n"
   ]
  },
  {
   "cell_type": "code",
   "execution_count": null,
   "metadata": {},
   "outputs": [],
   "source": [
    "import pygame\n",
    "\n",
    "pygame.init()\n",
    "pygame.joystick.init()\n",
    "\n",
    "# Check if any joysticks are connected\n",
    "if pygame.joystick.get_count() == 0:\n",
    "    print(\"No joystick detected.\")\n",
    "    pygame.quit()\n",
    "    exit()\n",
    "else:\n",
    "    joystick = pygame.joystick.Joystick(0)\n",
    "    joystick.init()\n",
    "\n",
    "    print(f\"Joystick Name: {joystick.get_name()}\")\n",
    "\n",
    "    try:\n",
    "        while True:\n",
    "            pygame.event.pump()  # Update internal state of the joystick\n",
    "\n",
    "            # Get button states\n",
    "            buttons = [joystick.get_button(i) for i in range(joystick.get_numbuttons())]\n",
    "\n",
    "            # Get axis values (analog input)\n",
    "            axes = [joystick.get_axis(i) for i in range(joystick.get_numaxes())]\n",
    "\n",
    "            # Print the joystick axes and button states\n",
    "            print(f\"Axes: {axes}\")\n",
    "            print(f\"Buttons: {buttons}\")\n",
    "\n",
    "            pygame.time.wait(100)  # Prevent overwhelming the output\n",
    "    except KeyboardInterrupt:\n",
    "        print(\"\\nExiting...\")\n",
    "        pygame.quit()\n"
   ]
  }
 ],
 "metadata": {
  "anaconda-cloud": {},
  "kernelspec": {
   "display_name": "Python 3",
   "language": "python",
   "name": "python3"
  },
  "language_info": {
   "codemirror_mode": {
    "name": "ipython",
    "version": 3
   },
   "file_extension": ".py",
   "mimetype": "text/x-python",
   "name": "python",
   "nbconvert_exporter": "python",
   "pygments_lexer": "ipython3",
   "version": "3.8.10"
  }
 },
 "nbformat": 4,
 "nbformat_minor": 4
}
